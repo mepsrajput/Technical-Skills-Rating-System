import matplotlib.pyplot as plt

plt.bar(df["Category"], df["Score (0-10)"])
plt.xticks(rotation=45, ha="right")
plt.title(f"{df['Skill'].iloc[0]} Skill Breakdown")
plt.show()
